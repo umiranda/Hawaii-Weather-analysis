{
 "cells": [
  {
   "cell_type": "code",
   "execution_count": 1,
   "metadata": {},
   "outputs": [],
   "source": [
    "%matplotlib inline\n",
    "from matplotlib import style\n",
    "style.use('fivethirtyeight')\n",
    "import matplotlib.pyplot as plt"
   ]
  },
  {
   "cell_type": "code",
   "execution_count": 2,
   "metadata": {},
   "outputs": [],
   "source": [
    "import numpy as np\n",
    "import pandas as pd"
   ]
  },
  {
   "cell_type": "code",
   "execution_count": 3,
   "metadata": {},
   "outputs": [],
   "source": [
    "import datetime as dt"
   ]
  },
  {
   "cell_type": "markdown",
   "metadata": {},
   "source": [
    "# Reflect Tables into SQLAlchemy ORM"
   ]
  },
  {
   "cell_type": "code",
   "execution_count": 4,
   "metadata": {},
   "outputs": [],
   "source": [
    "# Python SQL toolkit and Object Relational Mapper\n",
    "import sqlalchemy as db\n",
    "from sqlalchemy.ext.automap import automap_base\n",
    "from sqlalchemy.orm import Session\n",
    "from sqlalchemy import create_engine, inspect, func"
   ]
  },
  {
   "cell_type": "code",
   "execution_count": 5,
   "metadata": {},
   "outputs": [],
   "source": [
    "file_path = \"Resources/hawaii.sqlite\"\n",
    "engine = create_engine(f'sqlite:///{file_path}', echo=False)"
   ]
  },
  {
   "cell_type": "code",
   "execution_count": 6,
   "metadata": {
    "pycharm": {
     "name": "#%%\n"
    }
   },
   "outputs": [
    {
     "name": "stdout",
     "output_type": "stream",
     "text": [
      "Resources/hawaii.sqlite\n"
     ]
    }
   ],
   "source": [
    "print(file_path)"
   ]
  },
  {
   "cell_type": "code",
   "execution_count": 7,
   "metadata": {},
   "outputs": [],
   "source": [
    "# reflect an existing database into a new model\n",
    "Base = automap_base()\n",
    "# reflect the tables\n",
    "Base.prepare(engine, reflect=True)"
   ]
  },
  {
   "cell_type": "code",
   "execution_count": 8,
   "metadata": {
    "pycharm": {
     "name": "#%%\n"
    }
   },
   "outputs": [
    {
     "data": {
      "text/plain": [
       "['measurement', 'station']"
      ]
     },
     "execution_count": 8,
     "metadata": {},
     "output_type": "execute_result"
    }
   ],
   "source": [
    "# View all of the classes that automap found\n",
    "Base.classes.keys()"
   ]
  },
  {
   "cell_type": "code",
   "execution_count": 9,
   "metadata": {
    "pycharm": {
     "name": "#%%\n"
    }
   },
   "outputs": [],
   "source": [
    "# Save references to each table\n",
    "Measurement = Base.classes.measurement\n",
    "Station = Base.classes.station"
   ]
  },
  {
   "cell_type": "code",
   "execution_count": 10,
   "metadata": {
    "pycharm": {
     "name": "#%%\n"
    }
   },
   "outputs": [
    {
     "data": {
      "text/plain": [
       "['measurement', 'station']"
      ]
     },
     "execution_count": 10,
     "metadata": {},
     "output_type": "execute_result"
    }
   ],
   "source": [
    "# Create our session (link) from Python to the DB\n",
    "session = Session(engine)\n",
    "inspector = inspect(engine)\n",
    "inspector.get_table_names()\n"
   ]
  },
  {
   "cell_type": "markdown",
   "metadata": {},
   "source": [
    "# Exploratory Climate Analysis"
   ]
  },
  {
   "cell_type": "code",
   "execution_count": 11,
   "metadata": {},
   "outputs": [
    {
     "data": {
      "text/plain": [
       "[{'name': 'id',\n",
       "  'type': INTEGER(),\n",
       "  'nullable': False,\n",
       "  'default': None,\n",
       "  'autoincrement': 'auto',\n",
       "  'primary_key': 1},\n",
       " {'name': 'station',\n",
       "  'type': TEXT(),\n",
       "  'nullable': True,\n",
       "  'default': None,\n",
       "  'autoincrement': 'auto',\n",
       "  'primary_key': 0},\n",
       " {'name': 'date',\n",
       "  'type': TEXT(),\n",
       "  'nullable': True,\n",
       "  'default': None,\n",
       "  'autoincrement': 'auto',\n",
       "  'primary_key': 0},\n",
       " {'name': 'prcp',\n",
       "  'type': FLOAT(),\n",
       "  'nullable': True,\n",
       "  'default': None,\n",
       "  'autoincrement': 'auto',\n",
       "  'primary_key': 0},\n",
       " {'name': 'tobs',\n",
       "  'type': FLOAT(),\n",
       "  'nullable': True,\n",
       "  'default': None,\n",
       "  'autoincrement': 'auto',\n",
       "  'primary_key': 0}]"
      ]
     },
     "execution_count": 11,
     "metadata": {},
     "output_type": "execute_result"
    }
   ],
   "source": [
    "columns = inspector.get_columns('measurement')\n",
    "columns"
   ]
  },
  {
   "cell_type": "code",
   "execution_count": 12,
   "metadata": {},
   "outputs": [
    {
     "data": {
      "text/plain": [
       "[{'name': 'id',\n",
       "  'type': INTEGER(),\n",
       "  'nullable': False,\n",
       "  'default': None,\n",
       "  'autoincrement': 'auto',\n",
       "  'primary_key': 1},\n",
       " {'name': 'station',\n",
       "  'type': TEXT(),\n",
       "  'nullable': True,\n",
       "  'default': None,\n",
       "  'autoincrement': 'auto',\n",
       "  'primary_key': 0},\n",
       " {'name': 'name',\n",
       "  'type': TEXT(),\n",
       "  'nullable': True,\n",
       "  'default': None,\n",
       "  'autoincrement': 'auto',\n",
       "  'primary_key': 0},\n",
       " {'name': 'latitude',\n",
       "  'type': FLOAT(),\n",
       "  'nullable': True,\n",
       "  'default': None,\n",
       "  'autoincrement': 'auto',\n",
       "  'primary_key': 0},\n",
       " {'name': 'longitude',\n",
       "  'type': FLOAT(),\n",
       "  'nullable': True,\n",
       "  'default': None,\n",
       "  'autoincrement': 'auto',\n",
       "  'primary_key': 0},\n",
       " {'name': 'elevation',\n",
       "  'type': FLOAT(),\n",
       "  'nullable': True,\n",
       "  'default': None,\n",
       "  'autoincrement': 'auto',\n",
       "  'primary_key': 0}]"
      ]
     },
     "execution_count": 12,
     "metadata": {},
     "output_type": "execute_result"
    }
   ],
   "source": [
    "columns = inspector.get_columns('station')\n",
    "columns"
   ]
  },
  {
   "cell_type": "code",
   "execution_count": 13,
   "metadata": {
    "scrolled": false
   },
   "outputs": [
    {
     "data": {
      "text/plain": [
       "[('2017-08-23')]"
      ]
     },
     "execution_count": 13,
     "metadata": {},
     "output_type": "execute_result"
    }
   ],
   "source": [
    "#engine.execute('SELECT max(date) FROM measurement').fetchall()\n",
    "\n",
    "last_date = session.query(func.max(Measurement.date)).all()\n",
    "last_date"
   ]
  },
  {
   "cell_type": "code",
   "execution_count": 14,
   "metadata": {},
   "outputs": [
    {
     "data": {
      "text/plain": [
       "<AxesSubplot:xlabel='Date', ylabel='Inches'>"
      ]
     },
     "execution_count": 14,
     "metadata": {},
     "output_type": "execute_result"
    },
    {
     "data": {
      "image/png": "[encoded data removed]",
      "text/plain": [
       "<Figure size 720x360 with 1 Axes>"
      ]
     },
     "metadata": {},
     "output_type": "display_data"
    }
   ],
   "source": [
    "# Design a query to retrieve the last 12 months of precipitation data and plot the results\n",
    "# Calculate the date 1 year ago from the last data point in the database\n",
    "last_date=dt.date(2017, 8, 23)\n",
    "prev_year=last_date-dt.timedelta(days=365)\n",
    "\n",
    "\n",
    "# Perform a query to retrieve the data and precipitation scores\n",
    "results=session.query(Measurement.date, Measurement.prcp).\\\n",
    "                filter(Measurement.date>=prev_year, Measurement.date<=last_date).all()\n",
    "\n",
    "# Save the query results as a Pandas DataFrame and set the index to the date column\n",
    "\n",
    "results_df=pd.DataFrame(results, columns=['Date', 'Precipitation'])\n",
    "\n",
    "# Sort the dataframe by date\n",
    "\n",
    "sorted_results = results_df.sort_values(by='Date')\n",
    "sorted_results.head()\n",
    "# Use Pandas Plotting with Matplotlib to plot the data\n",
    "barplot = sorted_results.plot(x='Date', y='Precipitation', fontsize=11, figsize=(10,5))\n",
    "plt.xticks(rotation=75, fontsize = 11)\n",
    "plt.xlabel('Date', fontsize= 13)\n",
    "plt.ylabel('Inches',fontsize= 13)\n",
    "barplot"
   ]
  },
  {
   "cell_type": "code",
   "execution_count": 15,
   "metadata": {},
   "outputs": [
    {
     "data": {
      "text/html": [
       "<div>\n",
       "<style scoped>\n",
       "    .dataframe tbody tr th:only-of-type {\n",
       "        vertical-align: middle;\n",
       "    }\n",
       "\n",
       "    .dataframe tbody tr th {\n",
       "        vertical-align: top;\n",
       "    }\n",
       "\n",
       "    .dataframe thead th {\n",
       "        text-align: right;\n",
       "    }\n",
       "</style>\n",
       "<table border=\"1\" class=\"dataframe\">\n",
       "  <thead>\n",
       "    <tr style=\"text-align: right;\">\n",
       "      <th></th>\n",
       "      <th>Precipitation</th>\n",
       "    </tr>\n",
       "  </thead>\n",
       "  <tbody>\n",
       "    <tr>\n",
       "      <th>count</th>\n",
       "      <td>2021.000000</td>\n",
       "    </tr>\n",
       "    <tr>\n",
       "      <th>mean</th>\n",
       "      <td>0.177279</td>\n",
       "    </tr>\n",
       "    <tr>\n",
       "      <th>std</th>\n",
       "      <td>0.461190</td>\n",
       "    </tr>\n",
       "    <tr>\n",
       "      <th>min</th>\n",
       "      <td>0.000000</td>\n",
       "    </tr>\n",
       "    <tr>\n",
       "      <th>25%</th>\n",
       "      <td>0.000000</td>\n",
       "    </tr>\n",
       "    <tr>\n",
       "      <th>50%</th>\n",
       "      <td>0.020000</td>\n",
       "    </tr>\n",
       "    <tr>\n",
       "      <th>75%</th>\n",
       "      <td>0.130000</td>\n",
       "    </tr>\n",
       "    <tr>\n",
       "      <th>max</th>\n",
       "      <td>6.700000</td>\n",
       "    </tr>\n",
       "  </tbody>\n",
       "</table>\n",
       "</div>"
      ],
      "text/plain": [
       "       Precipitation\n",
       "count    2021.000000\n",
       "mean        0.177279\n",
       "std         0.461190\n",
       "min         0.000000\n",
       "25%         0.000000\n",
       "50%         0.020000\n",
       "75%         0.130000\n",
       "max         6.700000"
      ]
     },
     "execution_count": 15,
     "metadata": {},
     "output_type": "execute_result"
    }
   ],
   "source": [
    "## Use Pandas to calcualte the summary statistics for the precipitation data\n",
    "\n",
    "sorted_results.describe()\n"
   ]
  },
  {
   "cell_type": "code",
   "execution_count": 16,
   "metadata": {},
   "outputs": [
    {
     "name": "stdout",
     "output_type": "stream",
     "text": [
      "There are 9 stations available.\n"
     ]
    }
   ],
   "source": [
    "# Design a query to show how many stations are available in this dataset?\n",
    "number_st = session.query(Measurement.station).group_by(Measurement.station).count()\n",
    "print(f\"There are {number_st} stations available.\") \n",
    "\n",
    "\n"
   ]
  },
  {
   "cell_type": "code",
   "execution_count": 17,
   "metadata": {},
   "outputs": [
    {
     "data": {
      "text/plain": [
       "[('USC00519281', 2772)]"
      ]
     },
     "execution_count": 17,
     "metadata": {},
     "output_type": "execute_result"
    }
   ],
   "source": [
    "# What are the most active stations? (i.e. what stations have the most rows)?\n",
    "# List the stations and the counts in descending order.\n",
    "active_st = session.query(Measurement.station, func.count(Measurement.id))\\\n",
    "                    .group_by(Measurement.station)\\\n",
    "                    .order_by(func.count('*').desc()).limit(1).all()\n",
    "active_st\n"
   ]
  },
  {
   "cell_type": "code",
   "execution_count": 18,
   "metadata": {},
   "outputs": [
    {
     "data": {
      "text/plain": [
       "[('USC00519281', 54.0, 85.0, 72.0)]"
      ]
     },
     "execution_count": 18,
     "metadata": {},
     "output_type": "execute_result"
    }
   ],
   "source": [
    "# Using the station id from the previous query, calculate the lowest temperature recorded, \n",
    "# highest temperature recorded, and average temperature of the most active station?\n",
    "station_281 = session.query(Measurement.station , func.min(Measurement.tobs),\\\n",
    "                                                  func.max(Measurement.tobs),\\\n",
    "                                                  func.round(func.avg(Measurement.tobs))\\\n",
    "                           ).\\\n",
    "filter(Measurement.station == 'USC00519281', Measurement.tobs).all()\n",
    "\n",
    "station_281\n"
   ]
  },
  {
   "cell_type": "code",
   "execution_count": 19,
   "metadata": {},
   "outputs": [
    {
     "data": {
      "image/png": "[encoded data removed]",
      "text/plain": [
       "<Figure size 504x360 with 1 Axes>"
      ]
     },
     "metadata": {},
     "output_type": "display_data"
    }
   ],
   "source": [
    "# Choose the station with the highest number of temperature observations.\n",
    "# Query the last 12 months of temperature observation data for this station and plot the results as a histogram\n",
    "\n",
    "last_date=dt.date(2017, 8, 23)\n",
    "prev_year=last_date-dt.timedelta(days=365)\n",
    "\n",
    "\n",
    "results_2=session.query(Measurement.date, Measurement.tobs).\\\n",
    "                filter(Measurement.station == 'USC00519281',\\\n",
    "                       Measurement.date>=prev_year,\\\n",
    "                       Measurement.date<=last_date).all()\n",
    "\n",
    "results_2_df = pd.DataFrame(results_2)\n",
    "results_2_df.head()\n",
    "\n",
    "\n",
    "results_2_df.hist(bins=12, figsize=(7,5))\n",
    "plt.xlabel('Temperature', fontsize = 12)\n",
    "plt.ylabel('Frequency', fontsize = 12)\n",
    "plt.xticks(fontsize = 11)\n",
    "plt.yticks(fontsize = 11)\n",
    "plt.title(\"Temperature Observations\")\n",
    "plt.show()"
   ]
  },
  {
   "cell_type": "markdown",
   "metadata": {},
   "source": [
    "## Bonus Challenge Assignment"
   ]
  },
  {
   "cell_type": "code",
   "execution_count": 20,
   "metadata": {},
   "outputs": [
    {
     "name": "stdout",
     "output_type": "stream",
     "text": [
      "[(72.0, 77.24444444444444, 83.0)]\n"
     ]
    }
   ],
   "source": [
    "# This function called `calc_temps` will accept start date and end date in the format '%Y-%m-%d' \n",
    "# and return the minimum, average, and maximum temperatures for that range of dates\n",
    "def calc_temps(start_date, end_date):\n",
    "    \"\"\"TMIN, TAVG, and TMAX for a list of dates.\n",
    "    \n",
    "    Args:\n",
    "        start_date (string): A date string in the format %Y-%m-%d\n",
    "        end_date (string): A date string in the format %Y-%m-%d\n",
    "        \n",
    "    Returns:\n",
    "        TMIN, TAVE, and TMAX\n",
    "    \"\"\"\n",
    "    \n",
    "    return session.query(func.min(Measurement.tobs), func.avg(Measurement.tobs), func.max(Measurement.tobs)).\\\n",
    "        filter(Measurement.date >= start_date).filter(Measurement.date <= end_date).all()\n",
    "\n",
    "# function usage example\n",
    "print(calc_temps('2017-06-06', '2017-06-12'))"
   ]
  },
  {
   "cell_type": "code",
   "execution_count": 21,
   "metadata": {},
   "outputs": [
    {
     "data": {
      "text/plain": [
       "[('2010-06-06', 73.0, 76.0, 79.0),\n",
       " ('2010-06-07', 69.0, 74.0, 77.0),\n",
       " ('2010-06-08', 71.0, 76.0, 79.0),\n",
       " ('2010-06-09', 72.0, 76.0, 80.0),\n",
       " ('2010-06-10', 72.0, 76.0, 79.0),\n",
       " ('2010-06-11', 75.0, 78.0, 83.0),\n",
       " ('2010-06-12', 70.0, 75.0, 78.0),\n",
       " ('2011-06-06', 70.0, 74.0, 77.0),\n",
       " ('2011-06-07', 68.0, 72.0, 77.0),\n",
       " ('2011-06-08', 72.0, 74.0, 77.0),\n",
       " ('2011-06-09', 71.0, 75.0, 77.0),\n",
       " ('2011-06-10', 71.0, 75.0, 79.0),\n",
       " ('2011-06-11', 71.0, 76.0, 78.0),\n",
       " ('2011-06-12', 69.0, 75.0, 82.0),\n",
       " ('2012-06-06', 70.0, 73.0, 76.0),\n",
       " ('2012-06-07', 71.0, 74.0, 78.0),\n",
       " ('2012-06-08', 73.0, 75.0, 77.0),\n",
       " ('2012-06-09', 73.0, 75.0, 77.0),\n",
       " ('2012-06-10', 73.0, 76.0, 81.0),\n",
       " ('2012-06-11', 69.0, 74.0, 79.0),\n",
       " ('2012-06-12', 72.0, 76.0, 77.0),\n",
       " ('2013-06-06', 72.0, 76.0, 79.0),\n",
       " ('2013-06-07', 71.0, 74.0, 77.0),\n",
       " ('2013-06-08', 74.0, 77.0, 81.0),\n",
       " ('2013-06-09', 71.0, 76.0, 79.0),\n",
       " ('2013-06-10', 72.0, 75.0, 78.0),\n",
       " ('2013-06-11', 72.0, 75.0, 77.0),\n",
       " ('2013-06-12', 72.0, 76.0, 81.0),\n",
       " ('2014-06-06', 70.0, 74.0, 78.0),\n",
       " ('2014-06-07', 73.0, 77.0, 79.0),\n",
       " ('2014-06-08', 73.0, 77.0, 80.0),\n",
       " ('2014-06-09', 70.0, 75.0, 79.0),\n",
       " ('2014-06-10', 68.0, 73.0, 79.0),\n",
       " ('2014-06-11', 74.0, 79.0, 84.0),\n",
       " ('2014-06-12', 72.0, 77.0, 82.0),\n",
       " ('2015-06-06', 71.0, 77.0, 80.0),\n",
       " ('2015-06-07', 72.0, 76.0, 78.0),\n",
       " ('2015-06-08', 70.0, 74.0, 78.0),\n",
       " ('2015-06-09', 69.0, 74.0, 79.0),\n",
       " ('2015-06-10', 71.0, 76.0, 80.0),\n",
       " ('2015-06-11', 69.0, 74.0, 78.0),\n",
       " ('2015-06-12', 66.0, 74.0, 78.0),\n",
       " ('2016-06-06', 72.0, 75.0, 78.0),\n",
       " ('2016-06-07', 71.0, 75.0, 78.0),\n",
       " ('2016-06-08', 71.0, 75.0, 80.0),\n",
       " ('2016-06-09', 69.0, 72.0, 76.0),\n",
       " ('2016-06-10', 70.0, 75.0, 78.0),\n",
       " ('2016-06-11', 72.0, 76.0, 78.0),\n",
       " ('2016-06-12', 74.0, 76.0, 78.0),\n",
       " ('2017-06-06', 74.0, 77.0, 80.0),\n",
       " ('2017-06-07', 75.0, 78.0, 81.0),\n",
       " ('2017-06-08', 75.0, 77.0, 80.0),\n",
       " ('2017-06-09', 72.0, 78.0, 81.0),\n",
       " ('2017-06-10', 72.0, 75.0, 78.0),\n",
       " ('2017-06-11', 73.0, 77.0, 81.0),\n",
       " ('2017-06-12', 74.0, 78.0, 83.0)]"
      ]
     },
     "execution_count": 21,
     "metadata": {},
     "output_type": "execute_result"
    }
   ],
   "source": [
    "# calculate the tmin, tavg, and tmax \n",
    "# for your trip using the previous year's data for those same dates.\n",
    "last_date=dt.date(2017, 8, 23)\n",
    "first_date=dt.timedelta(2012, 1, 1)\n",
    "  \n",
    "    \n",
    "result_tobs = session.query(Measurement.date, func.min(Measurement.tobs), func.round(func.avg(Measurement.tobs)), func.max(Measurement.tobs)).\\\n",
    "              filter(Measurement.date >= first_date).\\\n",
    "              filter(Measurement.date <= last_date).\\\n",
    "              filter(func.strftime(\"%m-%d\", Measurement.date) >= '06-06').\\\n",
    "              filter(func.strftime(\"%m-%d\", Measurement.date) <= '06-12').\\\n",
    "              group_by(Measurement.date).all()\n",
    "result_tobs\n",
    "# function usage example\n"
   ]
  },
  {
   "cell_type": "code",
   "execution_count": 22,
   "metadata": {},
   "outputs": [],
   "source": [
    "# Use the peak-to-peak (tmax-tmin) value as the y error bar (yerr)\n",
    "df = pd.DataFrame(result_tobs, columns = ['Date','TMIN', 'TAVG', 'TMAX'])\n",
    "\n",
    "last_date=dt.date(2017, 8, 23)\n",
    "first_date=dt.timedelta(2010, 1, 1)\n",
    "  \n",
    "    \n",
    "result_ptps = session.query(func.max(Measurement.tobs) - func.min(Measurement.tobs)).\\\n",
    "              filter(Measurement.date >= first_date).\\\n",
    "              filter(Measurement.date <= last_date).\\\n",
    "              filter(func.strftime(\"%m-%d\", Measurement.date) >= '06-06').\\\n",
    "              filter(func.strftime(\"%m-%d\", Measurement.date) <= '06-12').\\\n",
    "              group_by(Measurement.date).all()\n",
    "\n",
    "ptps = list(np.ravel(result_ptps))\n",
    "\n",
    "\n"
   ]
  },
  {
   "cell_type": "code",
   "execution_count": 23,
   "metadata": {},
   "outputs": [
    {
     "data": {
      "image/png": "[encoded data removed]",
      "text/plain": [
       "<Figure size 280x350 with 1 Axes>"
      ]
     },
     "metadata": {},
     "output_type": "display_data"
    }
   ],
   "source": [
    "# Create a error bar chart\n",
    "xpos = 1\n",
    "yerror = ptps\n",
    "\n",
    "w = 4\n",
    "h = 5\n",
    "d = 70\n",
    "\n",
    "plt.figure(figsize=(w, h), dpi=d)\n",
    "plt.bar(xpos, df.TAVG , yerr=yerror, color='darkorange', width=4)\n",
    "plt.xlim(-3,5)\n",
    "plt.title(\"Trip Avg Temp\", fontsize = 15)\n",
    "plt.ylabel(\"Temp (F)\", fontsize=12)\n",
    "plt.ylim(0, 100)\n",
    "plt.tick_params(axis='x',which='both',bottom=False,top=False,labelbottom=False)\n",
    "plt.grid(which='major', axis='x', linestyle='')\n",
    "plt.grid(which='major', axis='y', linestyle='-')\n",
    "plt.show()\n"
   ]
  },
  {
   "cell_type": "code",
   "execution_count": 24,
   "metadata": {},
   "outputs": [
    {
     "name": "stdout",
     "output_type": "stream",
     "text": [
      "(56, 'USC00519523', 'WAIMANALO EXPERIMENTAL FARM, HI US', 21.33556, -157.71139, 19.5)\n",
      "(56, 'USC00513117', 'KANEOHE 838.1, HI US', 21.4234, -157.8015, 14.6)\n",
      "(54, 'USC00519397', 'WAIKIKI 717.2, HI US', 21.2716, -157.8168, 3.0)\n",
      "(54, 'USC00519281', 'WAIHEE 837.5, HI US', 21.45167, -157.84888999999998, 32.9)\n",
      "(49, 'USC00516128', 'MANOA LYON ARBO 785.2, HI US', 21.3331, -157.8025, 152.4)\n",
      "(41, 'USC00514830', 'KUALOA RANCH HEADQUARTERS 886.9, HI US', 21.5213, -157.8374, 7.0)\n",
      "(36, 'USC00511918', 'HONOLULU OBSERVATORY 702.2, HI US', 21.3152, -157.9992, 0.9)\n",
      "(15, 'USC00517948', 'PEARL CITY, HI US', 21.3934, -157.9751, 11.9)\n",
      "(5, 'USC00518838', 'UPPER WAHIAWA 874.3, HI US', 21.4992, -158.0111, 306.6)\n"
     ]
    }
   ],
   "source": [
    "# Calculate the total amount of rainfall per weather station for your trip dates using the previous year's matching dates.\n",
    "# Sort this in descending order by precipitation amount and list the station, name, latitude, longitude, and elevation\n",
    "last_date=dt.date(2017, 8, 23)\n",
    "first_date=dt.timedelta(2010, 1, 1)\n",
    "\n",
    "sel = [func.count(Measurement.prcp),Measurement.station, Station.name, Station.latitude, Station.longitude,Station.elevation]\n",
    "rainfall=session.query(*sel).filter(Measurement.station==Station.station).\\\n",
    "    group_by(Measurement.station).\\\n",
    "              filter(Measurement.date >= first_date).\\\n",
    "              filter(Measurement.date <= last_date).\\\n",
    "              filter(func.strftime(\"%m-%d\", Measurement.date) >= '06-06').\\\n",
    "              filter(func.strftime(\"%m-%d\", Measurement.date) <= '06-12').\\\n",
    "    order_by(func.count(Measurement.prcp).desc()).all()\n",
    "for r in rainfall:\n",
    "    print(r)\n"
   ]
  },
  {
   "cell_type": "code",
   "execution_count": 25,
   "metadata": {},
   "outputs": [
    {
     "data": {
      "text/plain": [
       "[(62.0, 69.15384615384616, 77.0)]"
      ]
     },
     "execution_count": 25,
     "metadata": {},
     "output_type": "execute_result"
    }
   ],
   "source": [
    "# Create a query that will calculate the daily normals \n",
    "# (i.e. the averages for tmin, tmax, and tavg for all historic data matching a specific month and day)\n",
    "\n",
    "def daily_normals(date):\n",
    "    \"\"\"Daily Normals.\n",
    "    \n",
    "    Args:\n",
    "        date (str): A date string in the format '%m-%d'\n",
    "        \n",
    "    Returns:\n",
    "        A list of tuples containing the daily normals, tmin, tavg, and tmax\n",
    "    \n",
    "    \"\"\"\n",
    "    \n",
    "    sel = [func.min(Measurement.tobs), func.avg(Measurement.tobs), func.max(Measurement.tobs)]\n",
    "    return session.query(*sel).filter(func.strftime(\"%m-%d\", Measurement.date) == date).all()\n",
    "    \n",
    "daily_normals(\"01-01\")"
   ]
  },
  {
   "cell_type": "code",
   "execution_count": 26,
   "metadata": {},
   "outputs": [
    {
     "data": {
      "text/plain": [
       "[('2017-06-06', 74.0, 77.0, 80.0),\n",
       " ('2017-06-07', 75.0, 78.0, 81.0),\n",
       " ('2017-06-08', 75.0, 77.0, 80.0),\n",
       " ('2017-06-09', 72.0, 78.0, 81.0),\n",
       " ('2017-06-10', 72.0, 75.0, 78.0),\n",
       " ('2017-06-11', 73.0, 77.0, 81.0),\n",
       " ('2017-06-12', 74.0, 78.0, 83.0)]"
      ]
     },
     "execution_count": 26,
     "metadata": {},
     "output_type": "execute_result"
    }
   ],
   "source": [
    "# Calculate min, max, avg for the trip dates chosen\n",
    "\n",
    "last_date=dt.date(2017, 8, 23)\n",
    "first_date=dt.timedelta(2010, 1, 1)\n",
    "  \n",
    "    \n",
    "result_tobs = session.query(Measurement.date, func.min(Measurement.tobs), func.round(func.avg(Measurement.tobs)), func.max(Measurement.tobs)).\\\n",
    "              filter(Measurement.date >= first_date).\\\n",
    "              filter(Measurement.date <= last_date).\\\n",
    "              filter(func.strftime(\"%Y-%m-%d\", Measurement.date) >= '2017-06-06').\\\n",
    "              filter(func.strftime(\"%Y-%m-%d\", Measurement.date) <= '2017-06-12').\\\n",
    "              group_by(Measurement.date).all()\n",
    "result_tobs\n"
   ]
  },
  {
   "cell_type": "code",
   "execution_count": 27,
   "metadata": {},
   "outputs": [
    {
     "data": {
      "text/html": [
       "<div>\n",
       "<style scoped>\n",
       "    .dataframe tbody tr th:only-of-type {\n",
       "        vertical-align: middle;\n",
       "    }\n",
       "\n",
       "    .dataframe tbody tr th {\n",
       "        vertical-align: top;\n",
       "    }\n",
       "\n",
       "    .dataframe thead th {\n",
       "        text-align: right;\n",
       "    }\n",
       "</style>\n",
       "<table border=\"1\" class=\"dataframe\">\n",
       "  <thead>\n",
       "    <tr style=\"text-align: right;\">\n",
       "      <th></th>\n",
       "      <th>TMIN</th>\n",
       "      <th>TAVG</th>\n",
       "      <th>TMAX</th>\n",
       "    </tr>\n",
       "    <tr>\n",
       "      <th>Date</th>\n",
       "      <th></th>\n",
       "      <th></th>\n",
       "      <th></th>\n",
       "    </tr>\n",
       "  </thead>\n",
       "  <tbody>\n",
       "    <tr>\n",
       "      <th>2017-06-06</th>\n",
       "      <td>74.0</td>\n",
       "      <td>77.0</td>\n",
       "      <td>80.0</td>\n",
       "    </tr>\n",
       "    <tr>\n",
       "      <th>2017-06-07</th>\n",
       "      <td>75.0</td>\n",
       "      <td>78.0</td>\n",
       "      <td>81.0</td>\n",
       "    </tr>\n",
       "    <tr>\n",
       "      <th>2017-06-08</th>\n",
       "      <td>75.0</td>\n",
       "      <td>77.0</td>\n",
       "      <td>80.0</td>\n",
       "    </tr>\n",
       "    <tr>\n",
       "      <th>2017-06-09</th>\n",
       "      <td>72.0</td>\n",
       "      <td>78.0</td>\n",
       "      <td>81.0</td>\n",
       "    </tr>\n",
       "    <tr>\n",
       "      <th>2017-06-10</th>\n",
       "      <td>72.0</td>\n",
       "      <td>75.0</td>\n",
       "      <td>78.0</td>\n",
       "    </tr>\n",
       "    <tr>\n",
       "      <th>2017-06-11</th>\n",
       "      <td>73.0</td>\n",
       "      <td>77.0</td>\n",
       "      <td>81.0</td>\n",
       "    </tr>\n",
       "    <tr>\n",
       "      <th>2017-06-12</th>\n",
       "      <td>74.0</td>\n",
       "      <td>78.0</td>\n",
       "      <td>83.0</td>\n",
       "    </tr>\n",
       "  </tbody>\n",
       "</table>\n",
       "</div>"
      ],
      "text/plain": [
       "            TMIN  TAVG  TMAX\n",
       "Date                        \n",
       "2017-06-06  74.0  77.0  80.0\n",
       "2017-06-07  75.0  78.0  81.0\n",
       "2017-06-08  75.0  77.0  80.0\n",
       "2017-06-09  72.0  78.0  81.0\n",
       "2017-06-10  72.0  75.0  78.0\n",
       "2017-06-11  73.0  77.0  81.0\n",
       "2017-06-12  74.0  78.0  83.0"
      ]
     },
     "execution_count": 27,
     "metadata": {},
     "output_type": "execute_result"
    }
   ],
   "source": [
    "# Load the previous query results into a Pandas DataFrame and add the `trip_dates` range as the `date` index\n",
    "df_2 = pd.DataFrame(result_tobs, columns = ['Date','TMIN', 'TAVG', 'TMAX'])\n",
    "df_2.set_index(\"Date\", inplace =True)\n",
    "df_2"
   ]
  },
  {
   "cell_type": "code",
   "execution_count": 31,
   "metadata": {},
   "outputs": [
    {
     "data": {
      "image/png": "[encoded data removed]",
      "text/plain": [
       "<Figure size 504x360 with 1 Axes>"
      ]
     },
     "metadata": {},
     "output_type": "display_data"
    }
   ],
   "source": [
    "# Plot the DF as an area plot with `stacked=False`\n",
    "\n",
    "df_2.plot.area(stacked=False, alpha = 0.2, rot=30, figsize=(7,5))\n",
    "\n",
    "plt.tight_layout()\n",
    "plt.xticks(rotation = 25, fontsize=10)\n",
    "\n",
    "plt.tight_layout()\n",
    "plt.ylabel(\"Temperature (F)\", fontsize=10)\n",
    "plt.title(f\"Daily Temperature for the trip\", fontsize=15)\n",
    "plt.show()"
   ]
  },
  {
   "cell_type": "code",
   "execution_count": null,
   "metadata": {},
   "outputs": [],
   "source": []
  }
 ],
 "metadata": {
  "kernel_info": {
   "name": "python3"
  },
  "kernelspec": {
   "display_name": "Python 3",
   "language": "python",
   "name": "python3"
  },
  "language_info": {
   "codemirror_mode": {
    "name": "ipython",
    "version": 3
   },
   "file_extension": ".py",
   "mimetype": "text/x-python",
   "name": "python",
   "nbconvert_exporter": "python",
   "pygments_lexer": "ipython3",
   "version": "3.8.5"
  },
  "nteract": {
   "version": "0.12.3"
  },
  "varInspector": {
   "cols": {
    "lenName": 16,
    "lenType": 16,
    "lenVar": 40
   },
   "kernels_config": {
    "python": {
     "delete_cmd_postfix": "",
     "delete_cmd_prefix": "del ",
     "library": "var_list.py",
     "varRefreshCmd": "print(var_dic_list())"
    },
    "r": {
     "delete_cmd_postfix": ") ",
     "delete_cmd_prefix": "rm(",
     "library": "var_list.r",
     "varRefreshCmd": "cat(var_dic_list()) "
    }
   },
   "types_to_exclude": [
    "module",
    "function",
    "builtin_function_or_method",
    "instance",
    "_Feature"
   ],
   "window_display": false
  }
 },
 "nbformat": 4,
 "nbformat_minor": 2
}
